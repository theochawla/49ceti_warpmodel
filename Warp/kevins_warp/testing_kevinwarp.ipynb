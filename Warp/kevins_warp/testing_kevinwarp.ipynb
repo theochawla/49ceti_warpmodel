{
 "cells": [
  {
   "cell_type": "code",
   "execution_count": 1,
   "id": "e6dfbd4c",
   "metadata": {},
   "outputs": [
    {
     "ename": "SyntaxError",
     "evalue": "invalid syntax (var_vis.py, line 75)",
     "output_type": "error",
     "traceback": [
      "Traceback \u001b[0;36m(most recent call last)\u001b[0m:\n",
      "  File \u001b[1;32m\"/soft/anaconda3/lib/python3.7/site-packages/IPython/core/interactiveshell.py\"\u001b[0m, line \u001b[1;32m3437\u001b[0m, in \u001b[1;35mrun_code\u001b[0m\n    exec(code_obj, self.user_global_ns, self.user_ns)\n",
      "  File \u001b[1;32m\"<ipython-input-1-e30f0f4cb927>\"\u001b[0m, line \u001b[1;32m1\u001b[0m, in \u001b[1;35m<module>\u001b[0m\n    import single_model_modified_2disks as warp\n",
      "\u001b[0;36m  File \u001b[0;32m\"/Volumes/disks/theo/49ceti_warpmodel/Warp/kevins_warp/single_model_modified_2disks.py\"\u001b[0;36m, line \u001b[0;32m7\u001b[0;36m, in \u001b[0;35m<module>\u001b[0;36m\u001b[0m\n\u001b[0;31m    from var_vis import *\u001b[0m\n",
      "\u001b[0;36m  File \u001b[0;32m\"/Volumes/disks/theo/49ceti_warpmodel/Warp/kevins_warp/var_vis.py\"\u001b[0;36m, line \u001b[0;32m75\u001b[0m\n\u001b[0;31m    print 'Not enough vis points near uv={:0.2f} klam. Only found {:0.0f} nearby points when {:0.0f} are needed'.format(np.sqrt(u[iuv]**2+v[iuv]**2)*klam,wf.sum(),nclose+1)\u001b[0m\n\u001b[0m                                                                                                               ^\u001b[0m\n\u001b[0;31mSyntaxError\u001b[0m\u001b[0;31m:\u001b[0m invalid syntax\n"
     ]
    }
   ],
   "source": [
    "import single_model_modified_2disks as warp"
   ]
  },
  {
   "cell_type": "code",
   "execution_count": null,
   "id": "a85e1365",
   "metadata": {},
   "outputs": [],
   "source": [
    "\"pulled var_vis from here... https://github.com/kevin-flaherty/ALMA-Disk-Code/blob/master/var_vis.py\""
   ]
  }
 ],
 "metadata": {
  "kernelspec": {
   "display_name": "Python 3",
   "language": "python",
   "name": "python3"
  },
  "language_info": {
   "codemirror_mode": {
    "name": "ipython",
    "version": 3
   },
   "file_extension": ".py",
   "mimetype": "text/x-python",
   "name": "python",
   "nbconvert_exporter": "python",
   "pygments_lexer": "ipython3",
   "version": "3.7.5"
  }
 },
 "nbformat": 4,
 "nbformat_minor": 5
}
